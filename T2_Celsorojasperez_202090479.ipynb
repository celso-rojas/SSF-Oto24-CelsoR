{
  "nbformat": 4,
  "nbformat_minor": 0,
  "metadata": {
    "colab": {
      "provenance": [],
      "authorship_tag": "ABX9TyOB5NmQ9cKcuTRb0UvQqs2y",
      "include_colab_link": true
    },
    "kernelspec": {
      "name": "python3",
      "display_name": "Python 3"
    },
    "language_info": {
      "name": "python"
    }
  },
  "cells": [
    {
      "cell_type": "markdown",
      "metadata": {
        "id": "view-in-github",
        "colab_type": "text"
      },
      "source": [
        "<a href=\"https://colab.research.google.com/github/celso-rojas/SSF-Oto24-CelsoRojasPerez/blob/main/T2_Celsorojasperez_202090479.ipynb\" target=\"_parent\"><img src=\"https://colab.research.google.com/assets/colab-badge.svg\" alt=\"Open In Colab\"/></a>"
      ]
    },
    {
      "cell_type": "code",
      "execution_count": null,
      "metadata": {
        "id": "td1yJPEGD3M-",
        "outputId": "f447526c-e7f4-49d6-e213-2da410814e7c",
        "colab": {
          "base_uri": "https://localhost:8080/"
        }
      },
      "outputs": [
        {
          "output_type": "stream",
          "name": "stdout",
          "text": [
            "Con 6 subintervalos/puntos:\n",
            "  Trapecio: 0.6781918237837556 (Error: 0.00449766835333032)\n",
            "  Simpson: 0.6827586139549787 (Error: 6.912181789275884e-05)\n",
            "  Gauss-Legendre: 0.6826894870533857 (Error: 5.083700238550648e-09)\n",
            "\n",
            "Con 15 subintervalos/puntos:\n",
            "  Trapecio: 0.6819721164424767 (Error: 0.0007173756946092791)\n",
            "  Simpson: 0.6826908122781857 (Error: 1.320141099769856e-06)\n",
            "  Gauss-Legendre: 0.6826894921370855 (Error: 4.440892098500626e-16)\n",
            "\n",
            "Solución exacta: 0.682689492137086\n"
          ]
        }
      ],
      "source": [
        "import numpy as np\n",
        "import scipy.integrate as spi\n",
        "import math\n",
        "\n",
        "# Definición de la función\n",
        "def f(x):\n",
        "    return (1/np.sqrt(2 * np.pi)) * np.exp(-x**2 / 2)\n",
        "\n",
        "# Intervalo de integración\n",
        "a, b = -1, 1\n",
        "\n",
        "# 1. Integración por regla del trapecio\n",
        "def trapecio(f, a, b, n):\n",
        "    x = np.linspace(a, b, n+1)\n",
        "    y = f(x)\n",
        "    h = (b - a) / n\n",
        "    integral = (h / 2) * (y[0] + 2 * np.sum(y[1:-1]) + y[-1])\n",
        "    return integral\n",
        "\n",
        "# 2. Integración por regla de Simpson\n",
        "def simpson(f, a, b, n):\n",
        "    if n % 2 != 0:  # Simpson requiere un número par de intervalos\n",
        "        n += 1\n",
        "    x = np.linspace(a, b, n+1)\n",
        "    y = f(x)\n",
        "    h = (b - a) / n\n",
        "    integral = h/3 * (y[0] + 4 * np.sum(y[1:-1:2]) + 2 * np.sum(y[2:-2:2]) + y[-1])\n",
        "    return integral\n",
        "\n",
        "# 3. Integración por Gauss-Legendre\n",
        "def gauss_legendre(f, a, b, n):\n",
        "    [x, w] = np.polynomial.legendre.leggauss(n)\n",
        "    integral = 0.5 * (b - a) * np.sum(w * f(0.5 * (b - a) * x + 0.5 * (b + a)))\n",
        "    return integral\n",
        "\n",
        "# 4. Solución exacta (usando scipy.quad para comparar)\n",
        "solucion_exacta, _ = spi.quad(f, a, b)\n",
        "\n",
        "# Realizar las integraciones\n",
        "n_values = [6, 15]\n",
        "\n",
        "for n in n_values:\n",
        "    print(f\"Con {n} subintervalos/puntos:\")\n",
        "\n",
        "    # Regla del trapecio\n",
        "    trap_result = trapecio(f, a, b, n)\n",
        "    error_trap = abs(solucion_exacta - trap_result)\n",
        "    print(f\"  Trapecio: {trap_result} (Error: {error_trap})\")\n",
        "\n",
        "    # Regla de Simpson\n",
        "    simp_result = simpson(f, a, b, n)\n",
        "    error_simp = abs(solucion_exacta - simp_result)\n",
        "    print(f\"  Simpson: {simp_result} (Error: {error_simp})\")\n",
        "\n",
        "    # Gauss-Legendre\n",
        "    gauss_result = gauss_legendre(f, a, b, n)\n",
        "    error_gauss = abs(solucion_exacta - gauss_result)\n",
        "    print(f\"  Gauss-Legendre: {gauss_result} (Error: {error_gauss})\\n\")\n",
        "\n",
        "# Mostrar la solución exacta para comparar\n",
        "print(f\"Solución exacta: {solucion_exacta}\")\n"
      ]
    },
    {
      "cell_type": "code",
      "source": [
        "import numpy as np\n",
        "import scipy.integrate as spi\n",
        "\n",
        "# Definir la función a integrar\n",
        "def f(x):\n",
        "    return np.exp(x) * np.sin(x) / (1 + x**2)\n",
        "\n",
        "# Intervalo de integración\n",
        "a, b = 0, 3\n",
        "\n",
        "# Solución exacta para comparar (usando scipy.quad)\n",
        "solucion_exacta, _ = spi.quad(f, a, b)\n",
        "\n",
        "# 1. Integración por regla del trapecio\n",
        "def trapecio(f, a, b, n):\n",
        "    x = np.linspace(a, b, n+1)\n",
        "    y = f(x)\n",
        "    h = (b - a) / n\n",
        "    integral = (h / 2) * (y[0] + 2 * np.sum(y[1:-1]) + y[-1])\n",
        "    return integral\n",
        "\n",
        "# 2. Integración por regla de Simpson\n",
        "def simpson(f, a, b, n):\n",
        "    if n % 2 != 0:  # Simpson requiere un número par de intervalos\n",
        "        n += 1\n",
        "    x = np.linspace(a, b, n+1)\n",
        "    y = f(x)\n",
        "    h = (b - a) / n\n",
        "    integral = h/3 * (y[0] + 4 * np.sum(y[1:-1:2]) + 2 * np.sum(y[2:-2:2]) + y[-1])\n",
        "    return integral\n",
        "\n",
        "# 3. Integración por Gauss-Legendre\n",
        "def gauss_legendre(f, a, b, n):\n",
        "    [x, w] = np.polynomial.legendre.leggauss(n)\n",
        "    integral = 0.5 * (b - a) * np.sum(w * f(0.5 * (b - a) * x + 0.5 * (b + a)))\n",
        "    return integral\n",
        "\n",
        "# Realizar las integraciones con 6, 15 y 20 particiones/puntos\n",
        "n_values = [6, 15, 20]\n",
        "\n",
        "for n in n_values:\n",
        "    print(f\"Con {n} subintervalos/puntos:\")\n",
        "\n",
        "    # Regla del trapecio\n",
        "    trap_result = trapecio(f, a, b, n)\n",
        "    error_trap = abs(solucion_exacta - trap_result)\n",
        "    print(f\"  Trapecio: {trap_result} (Error: {error_trap})\")\n",
        "\n",
        "    # Regla de Simpson\n",
        "    simp_result = simpson(f, a, b, n)\n",
        "    error_simp = abs(solucion_exacta - simp_result)\n",
        "    print(f\"  Simpson: {simp_result} (Error: {error_simp})\")\n",
        "\n",
        "    # Gauss-Legendre\n",
        "    gauss_result = gauss_legendre(f, a, b, n)\n",
        "    error_gauss = abs(solucion_exacta - gauss_result)\n",
        "    print(f\"  Gauss-Legendre: {gauss_result} (Error: {error_gauss})\\n\")\n",
        "\n",
        "# Mostrar la solución exacta para comparar\n",
        "print(f\"Solución exacta: {solucion_exacta}\")\n"
      ],
      "metadata": {
        "colab": {
          "base_uri": "https://localhost:8080/"
        },
        "id": "ZLUyDoaeZa-8",
        "outputId": "98a6575f-2ac5-4d83-83ab-091fb220fb08"
      },
      "execution_count": 2,
      "outputs": [
        {
          "output_type": "stream",
          "name": "stdout",
          "text": [
            "Con 6 subintervalos/puntos:\n",
            "  Trapecio: 2.821344182720175 (Error: 0.06029309033501207)\n",
            "  Simpson: 2.8854018637270924 (Error: 0.003764590671905488)\n",
            "  Gauss-Legendre: 2.8816429377926123 (Error: 5.664737425359334e-06)\n",
            "\n",
            "Con 15 subintervalos/puntos:\n",
            "  Trapecio: 2.8720451041504567 (Error: 0.009592168904730247)\n",
            "  Simpson: 2.881665963141232 (Error: 2.869008604511336e-05)\n",
            "  Gauss-Legendre: 2.881637273033885 (Error: 2.1302071218087804e-11)\n",
            "\n",
            "Con 20 subintervalos/puntos:\n",
            "  Trapecio: 2.8762438146076046 (Error: 0.005393458447582322)\n",
            "  Simpson: 2.881648560171607 (Error: 1.1287116420177767e-05)\n",
            "  Gauss-Legendre: 2.881637273055186 (Error: 8.881784197001252e-16)\n",
            "\n",
            "Solución exacta: 2.881637273055187\n"
          ]
        }
      ]
    },
    {
      "cell_type": "code",
      "source": [
        "import numpy as np\n",
        "import scipy.integrate as spi\n",
        "\n",
        "# Definir la función a integrar\n",
        "def f(x):\n",
        "    return np.exp(x) * np.sin(x) / (1 + x**2)\n",
        "\n",
        "# Nuevo intervalo de integración\n",
        "a, b = -2, 0\n",
        "\n",
        "# Solución exacta para comparar (usando scipy.quad)\n",
        "solucion_exacta, _ = spi.quad(f, a, b)\n",
        "\n",
        "# 1. Integración por regla del trapecio\n",
        "def trapecio(f, a, b, n):\n",
        "    x = np.linspace(a, b, n+1)\n",
        "    y = f(x)\n",
        "    h = (b - a) / n\n",
        "    integral = (h / 2) * (y[0] + 2 * np.sum(y[1:-1]) + y[-1])\n",
        "    return integral\n",
        "\n",
        "# 2. Integración por regla de Simpson\n",
        "def simpson(f, a, b, n):\n",
        "    if n % 2 != 0:  # Simpson requiere un número par de intervalos\n",
        "        n += 1\n",
        "    x = np.linspace(a, b, n+1)\n",
        "    y = f(x)\n",
        "    h = (b - a) / n\n",
        "    integral = h/3 * (y[0] + 4 * np.sum(y[1:-1:2]) + 2 * np.sum(y[2:-2:2]) + y[-1])\n",
        "    return integral\n",
        "\n",
        "# 3. Integración por Gauss-Legendre\n",
        "def gauss_legendre(f, a, b, n):\n",
        "    [x, w] = np.polynomial.legendre.leggauss(n)\n",
        "    integral = 0.5 * (b - a) * np.sum(w * f(0.5 * (b - a) * x + 0.5 * (b + a)))\n",
        "    return integral\n",
        "\n",
        "# Realizar las integraciones con 6, 15 y 20 particiones/puntos\n",
        "n_values = [6, 15, 20]\n",
        "\n",
        "for n in n_values:\n",
        "    print(f\"Con {n} subintervalos/puntos:\")\n",
        "\n",
        "    # Regla del trapecio\n",
        "    trap_result = trapecio(f, a, b, n)\n",
        "    error_trap = abs(solucion_exacta - trap_result)\n",
        "    print(f\"  Trapecio: {trap_result} (Error: {error_trap})\")\n",
        "\n",
        "    # Regla de Simpson\n",
        "    simp_result = simpson(f, a, b, n)\n",
        "    error_simp = abs(solucion_exacta - simp_result)\n",
        "    print(f\"  Simpson: {simp_result} (Error: {error_simp})\")\n",
        "\n",
        "    # Gauss-Legendre\n",
        "    gauss_result = gauss_legendre(f, a, b, n)\n",
        "    error_gauss = abs(solucion_exacta - gauss_result)\n",
        "    print(f\"  Gauss-Legendre: {gauss_result} (Error: {error_gauss})\\n\")\n",
        "\n",
        "# Mostrar la solución exacta para comparar\n",
        "print(f\"Solución exacta: {solucion_exacta}\")\n"
      ],
      "metadata": {
        "colab": {
          "base_uri": "https://localhost:8080/"
        },
        "id": "MZzwOTzQeonG",
        "outputId": "308c1a0b-b2cc-4e0c-9fbc-c223c35758d3"
      },
      "execution_count": 3,
      "outputs": [
        {
          "output_type": "stream",
          "name": "stdout",
          "text": [
            "Con 6 subintervalos/puntos:\n",
            "  Trapecio: -0.24662685301874357 (Error: 0.009843714317286895)\n",
            "  Simpson: -0.2567618032092215 (Error: 0.0002912358731910203)\n",
            "  Gauss-Legendre: -0.2564723282471044 (Error: 1.7609110739558176e-06)\n",
            "\n",
            "Con 15 subintervalos/puntos:\n",
            "  Trapecio: -0.2549050624716035 (Error: 0.0015655048644269698)\n",
            "  Simpson: -0.25647599507486957 (Error: 5.427738839103302e-06)\n",
            "  Gauss-Legendre: -0.25647056733604234 (Error: 1.1879386363489175e-14)\n",
            "\n",
            "Con 20 subintervalos/puntos:\n",
            "  Trapecio: -0.25559039224119967 (Error: 0.0008801750948307929)\n",
            "  Simpson: -0.25647275853630713 (Error: 2.1912002766688587e-06)\n",
            "  Gauss-Legendre: -0.2564705673360303 (Error: 1.6653345369377348e-16)\n",
            "\n",
            "Solución exacta: -0.25647056733603046\n"
          ]
        }
      ]
    },
    {
      "cell_type": "markdown",
      "source": [
        "hay que tomar en cuenta que si usamos como tal 0 nos puede surgir alguna irregularidad con los calculos por ello tome un valor  cercano"
      ],
      "metadata": {
        "id": "OE3_if3cpSbP"
      }
    },
    {
      "cell_type": "code",
      "source": [
        "import numpy as np\n",
        "import scipy.integrate as spi\n",
        "\n",
        "# Definir las funciones f(x) y g(x)\n",
        "def f(x):\n",
        "    return np.exp(x) / x\n",
        "\n",
        "def g(x):\n",
        "    return (1 - np.exp(x)) / x\n",
        "\n",
        "# Definir los límites de integración\n",
        "a = 0.0000000001  # Límite inferior para evitar singularidad\n",
        "b = 5\n",
        "\n",
        "# 1. Integración usando la regla de Simpson\n",
        "def simpson(f, a, b, n):\n",
        "    if n % 2 != 0:  # Simpson requiere un número par de intervalos\n",
        "        n += 1\n",
        "    x = np.linspace(a, b, n+1)\n",
        "    y = f(x)\n",
        "    h = (b - a) / n\n",
        "    integral = h/3 * (y[0] + 4 * np.sum(y[1:-1:2]) + 2 * np.sum(y[2:-2:2]) + y[-1])\n",
        "    return integral\n",
        "\n",
        "# Número de particiones\n",
        "n_particiones = 10000\n",
        "\n",
        "# Integrar f(x)\n",
        "integral_f = simpson(f, a, b, n_particiones)\n",
        "print(f\"Integral de f(x) = e^x / x en el intervalo (0.0001, 5): {integral_f}\")\n",
        "\n",
        "# Integrar g(x)\n",
        "integral_g = simpson(g, a, b, n_particiones)\n",
        "print(f\"Integral de g(x) = (1 - e^x) / x en el intervalo (0.0001, 5): {integral_g}\")\n",
        "\n",
        "# Comparar con la solución exacta utilizando scipy quad\n",
        "solucion_exacta_f, _ = spi.quad(f, a, b)\n",
        "solucion_exacta_g, _ = spi.quad(g, a, b)\n",
        "\n",
        "print(f\"Solución exacta para f(x): {solucion_exacta_f}\")\n",
        "print(f\"Solución exacta para g(x): {solucion_exacta_g}\")\n"
      ],
      "metadata": {
        "colab": {
          "base_uri": "https://localhost:8080/"
        },
        "id": "Ogje__mBhsKW",
        "outputId": "fe8b361d-c3f4-4a32-e713-79763833955a"
      },
      "execution_count": 5,
      "outputs": [
        {
          "output_type": "stream",
          "name": "stdout",
          "text": [
            "Integral de f(x) = e^x / x en el intervalo (0.0001, 5): 1666714.683859825\n",
            "Integral de g(x) = (1 - e^x) / x en el intervalo (0.0001, 5): -37.99862177838133\n",
            "Solución exacta para f(x): 62.63391062074234\n",
            "Solución exacta para g(x): -37.99862177836754\n"
          ]
        }
      ]
    }
  ]
}